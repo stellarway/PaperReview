{
 "cells": [
  {
   "cell_type": "markdown",
   "metadata": {},
   "source": [
    "## scrapy with project -> fast"
   ]
  },
  {
   "cell_type": "markdown",
   "metadata": {},
   "source": [
    "##### reference link :  https://www.jitsejan.com/using-scrapy-in-jupyter-notebook.html"
   ]
  },
  {
   "cell_type": "code",
   "execution_count": 1,
   "metadata": {},
   "outputs": [
    {
     "data": {
      "text/plain": [
       "'3.7.0'"
      ]
     },
     "execution_count": 1,
     "metadata": {},
     "output_type": "execute_result"
    }
   ],
   "source": [
    "# Settings for notebook\n",
    "from IPython.core.interactiveshell import InteractiveShell\n",
    "InteractiveShell.ast_node_interactivity = \"all\"\n",
    "# Show Python version\n",
    "import platform\n",
    "platform.python_version()"
   ]
  },
  {
   "cell_type": "code",
   "execution_count": 2,
   "metadata": {},
   "outputs": [],
   "source": [
    "import scrapy\n",
    "from scrapy.crawler import CrawlerProcess"
   ]
  },
  {
   "cell_type": "code",
   "execution_count": 3,
   "metadata": {},
   "outputs": [],
   "source": [
    "import json\n",
    "\n",
    "class JsonWriterPipeline(object):\n",
    "\n",
    "    def open_spider(self, spider):\n",
    "        self.file = open('productName.csv', 'w')\n",
    "\n",
    "    def close_spider(self, spider):\n",
    "        self.file.close()\n",
    "\n",
    "    def process_item(self, item, spider):\n",
    "        line = json.dumps(dict(item)) + \"\\n\"\n",
    "        self.file.write(line)\n",
    "        return item"
   ]
  },
  {
   "cell_type": "code",
   "execution_count": 5,
   "metadata": {},
   "outputs": [],
   "source": [
    "import os\n",
    "import re\n",
    "import logging\n",
    "import pandas as pd\n",
    "\n",
    "class productNameSpider(scrapy.Spider):\n",
    "    BASE_DIR = os.getcwd()\n",
    "    DATASET_PATH = os.path.join(BASE_DIR, u\"\")\n",
    "    file1 = os.path.join(DATASET_PATH, \"reviewNotDuplication.json\")\n",
    "    df = pd.read_json(file1)#, error_bad_lines=False, header=None)\n",
    "    \n",
    "    name = \"productName\"\n",
    "    start_urls = [\"https://www.amazon.com/product-reviews/{}\".format(asin) for asin in set(df['asin'])]\n",
    "    \n",
    "    custom_settings = {\n",
    "        'LOG_LEVEL': logging.WARNING,\n",
    "        'ITEM_PIPELINES': {'__main__.JsonWriterPipeline': 1}, # Used for pipeline 1\n",
    "        'FEED_FORMAT':'json',                                 # Used for pipeline 2\n",
    "        'FEED_URI': 'productName.json'                        # Used for pipeline 2\n",
    "    }\n",
    "    \n",
    "    def parse(self, response):\n",
    "        response.url.split(\"/\")[-1]\n",
    "        link = response.css('body link[rel=\"canonical\"]::attr(href)').get()\n",
    "        productName = re.sub(r\"(https:\\/\\/.*\\.com\\/)|(product-reviews\\/)|(\\?.*)\",\"\",link).split(\"/\")[0]\n",
    "        yield {\n",
    "            'asin' : response.url.split(\"/\")[-1],\n",
    "            'productName' : productName\n",
    "        }"
   ]
  },
  {
   "cell_type": "code",
   "execution_count": 7,
   "metadata": {},
   "outputs": [
    {
     "name": "stderr",
     "output_type": "stream",
     "text": [
      "2019-08-08 00:41:08 [scrapy.utils.log] INFO: Scrapy 1.6.0 started (bot: scrapybot)\n",
      "2019-08-08 00:41:08 [scrapy.utils.log] INFO: Versions: lxml 4.3.4.0, libxml2 2.9.9, cssselect 1.0.3, parsel 1.5.1, w3lib 1.20.0, Twisted 19.2.1, Python 3.7.0 (v3.7.0:1bf9cc5093, Jun 26 2018, 23:26:24) - [Clang 6.0 (clang-600.0.57)], pyOpenSSL 19.0.0 (OpenSSL 1.1.1c  28 May 2019), cryptography 2.7, Platform Darwin-18.7.0-x86_64-i386-64bit\n",
      "2019-08-08 00:41:08 [scrapy.crawler] INFO: Overridden settings: {'FEED_FORMAT': 'json', 'FEED_URI': 'productName.json', 'LOG_LEVEL': 30}\n"
     ]
    },
    {
     "data": {
      "text/plain": [
       "<Deferred at 0x118759898>"
      ]
     },
     "execution_count": 7,
     "metadata": {},
     "output_type": "execute_result"
    }
   ],
   "source": [
    "process = CrawlerProcess({\n",
    "    'user-agent' : 'Mozilla/5.0 (Macintosh; Intel Mac OS X 10_14_5) AppleWebKit/537.36 (KHTML, like Gecko) Chrome/73.0.3683.103 Whale/1.5.75.9 Safari/537.36',\n",
    "})\n",
    "\n",
    "process.crawl(productNameSpider)\n",
    "process.start()"
   ]
  },
  {
   "cell_type": "code",
   "execution_count": 8,
   "metadata": {},
   "outputs": [
    {
     "name": "stdout",
     "output_type": "stream",
     "text": [
      "-rw-r--r--  1 Jay  staff  3833 Aug  8 00:41 productName.csv\n",
      "-rw-r--r--  1 Jay  staff  3881 Aug  8 00:41 productName.json\n"
     ]
    }
   ],
   "source": [
    "ll productName.*"
   ]
  },
  {
   "cell_type": "code",
   "execution_count": 9,
   "metadata": {},
   "outputs": [
    {
     "name": "stdout",
     "output_type": "stream",
     "text": [
      "{\"asin\": \"B00MHPAFAG\", \"productName\": \"Sony-16-50mm-Mirrorless-Digital-Camera\"}\n",
      "{\"asin\": \"B007VGGHW6\", \"productName\": \"Nikon-Digital-18-55mm-3-5-5-6-NIKKOR\"}\n"
     ]
    }
   ],
   "source": [
    "!tail -n 2 productName.csv"
   ]
  },
  {
   "cell_type": "code",
   "execution_count": 10,
   "metadata": {},
   "outputs": [
    {
     "name": "stdout",
     "output_type": "stream",
     "text": [
      "{\"asin\": \"B007VGGHW6\", \"productName\": \"Nikon-Digital-18-55mm-3-5-5-6-NIKKOR\"}\n",
      "]"
     ]
    }
   ],
   "source": [
    "!tail -n 2 productName.json"
   ]
  },
  {
   "cell_type": "code",
   "execution_count": 12,
   "metadata": {},
   "outputs": [
    {
     "data": {
      "text/html": [
       "<div>\n",
       "<style scoped>\n",
       "    .dataframe tbody tr th:only-of-type {\n",
       "        vertical-align: middle;\n",
       "    }\n",
       "\n",
       "    .dataframe tbody tr th {\n",
       "        vertical-align: top;\n",
       "    }\n",
       "\n",
       "    .dataframe thead th {\n",
       "        text-align: right;\n",
       "    }\n",
       "</style>\n",
       "<table border=\"1\" class=\"dataframe\">\n",
       "  <thead>\n",
       "    <tr style=\"text-align: right;\">\n",
       "      <th></th>\n",
       "      <th>asin</th>\n",
       "      <th>productName</th>\n",
       "    </tr>\n",
       "  </thead>\n",
       "  <tbody>\n",
       "    <tr>\n",
       "      <th>0</th>\n",
       "      <td>B00IZDLD32</td>\n",
       "      <td>Sony-Mirrorless-Digital-Camera-24-3MP</td>\n",
       "    </tr>\n",
       "    <tr>\n",
       "      <th>1</th>\n",
       "      <td>B004J41T7Q</td>\n",
       "      <td>Canon-PowerShot-Digital-Camera-Black</td>\n",
       "    </tr>\n",
       "    <tr>\n",
       "      <th>2</th>\n",
       "      <td>B00B5HE2UG</td>\n",
       "      <td>Canon-PowerShot-Digital-Stabilized-2-7-Inch</td>\n",
       "    </tr>\n",
       "    <tr>\n",
       "      <th>3</th>\n",
       "      <td>B00I8BICB2</td>\n",
       "      <td>Sony-Mirrorless-Digital-3-0-Inch-16-50mm</td>\n",
       "    </tr>\n",
       "    <tr>\n",
       "      <th>4</th>\n",
       "      <td>B0075SUK14</td>\n",
       "      <td>Canon-PowerShot-Digital-Stabilized-Wide-Angle</td>\n",
       "    </tr>\n",
       "  </tbody>\n",
       "</table>\n",
       "</div>"
      ],
      "text/plain": [
       "         asin                                    productName\n",
       "0  B00IZDLD32          Sony-Mirrorless-Digital-Camera-24-3MP\n",
       "1  B004J41T7Q           Canon-PowerShot-Digital-Camera-Black\n",
       "2  B00B5HE2UG    Canon-PowerShot-Digital-Stabilized-2-7-Inch\n",
       "3  B00I8BICB2       Sony-Mirrorless-Digital-3-0-Inch-16-50mm\n",
       "4  B0075SUK14  Canon-PowerShot-Digital-Stabilized-Wide-Angle"
      ]
     },
     "execution_count": 12,
     "metadata": {},
     "output_type": "execute_result"
    }
   ],
   "source": [
    "import pandas as pd\n",
    "dfjson = pd.read_json('productName.json')\n",
    "dfjson.head(5)"
   ]
  },
  {
   "cell_type": "code",
   "execution_count": null,
   "metadata": {},
   "outputs": [],
   "source": []
  },
  {
   "cell_type": "code",
   "execution_count": 1,
   "metadata": {},
   "outputs": [
    {
     "ename": "NameError",
     "evalue": "name 'dfjson' is not defined",
     "output_type": "error",
     "traceback": [
      "\u001b[1;31m---------------------------------------------------------------------------\u001b[0m",
      "\u001b[1;31mNameError\u001b[0m                                 Traceback (most recent call last)",
      "\u001b[1;32m<ipython-input-1-85287971ee98>\u001b[0m in \u001b[0;36m<module>\u001b[1;34m\u001b[0m\n\u001b[1;32m----> 1\u001b[1;33m \u001b[0mlen\u001b[0m\u001b[1;33m(\u001b[0m\u001b[0mdfjson\u001b[0m\u001b[1;33m[\u001b[0m\u001b[1;34m'asin'\u001b[0m\u001b[1;33m]\u001b[0m\u001b[1;33m)\u001b[0m\u001b[1;33m\u001b[0m\u001b[1;33m\u001b[0m\u001b[0m\n\u001b[0m",
      "\u001b[1;31mNameError\u001b[0m: name 'dfjson' is not defined"
     ]
    }
   ],
   "source": [
    "len(dfjson['asin'])"
   ]
  },
  {
   "cell_type": "code",
   "execution_count": null,
   "metadata": {},
   "outputs": [],
   "source": []
  },
  {
   "cell_type": "code",
   "execution_count": null,
   "metadata": {},
   "outputs": [],
   "source": []
  },
  {
   "cell_type": "code",
   "execution_count": null,
   "metadata": {},
   "outputs": [],
   "source": []
  },
  {
   "cell_type": "code",
   "execution_count": null,
   "metadata": {},
   "outputs": [],
   "source": []
  },
  {
   "cell_type": "code",
   "execution_count": null,
   "metadata": {},
   "outputs": [],
   "source": []
  },
  {
   "cell_type": "markdown",
   "metadata": {},
   "source": [
    "## scrapy without project -> slow"
   ]
  },
  {
   "cell_type": "code",
   "execution_count": null,
   "metadata": {},
   "outputs": [],
   "source": [
    "import re\n",
    "import time\n",
    "import requests\n",
    "from scrapy.http import TextResponse\n",
    "\n",
    "def getProductName(asinList):\n",
    "    returnList = []\n",
    "    errorList = []\n",
    "    headers = {\n",
    "        'accept': 'text/html,application/xhtml+xml,application/xml;q=0.9,image/webp,image/apng,*/*;q=0.8',\n",
    "        'accept-encoding': 'gzip, deflate, br',\n",
    "        'accept-language': 'en-US,en;q=0.9,ko;q=0.8',\n",
    "        'user-agent' : 'Mozilla/5.0 (Macintosh; Intel Mac OS X 10_14_5) AppleWebKit/537.36 (KHTML, like Gecko) Chrome/73.0.3683.103 Whale/1.5.75.9 Safari/537.36',\n",
    "    }\n",
    "    \n",
    "    start = time.time()\n",
    "    for asin in asinList:\n",
    "        URL = \"https://www.amazon.com/product-reviews/{}\".format(asin)\n",
    "        resp = requests.get(URL, headers = headers)\n",
    "\n",
    "        response = TextResponse(resp.url, body=resp.text, encoding=\"utf-8\")\n",
    "        link = response.css('body link[rel=\"canonical\"]::attr(href)').get()\n",
    "        try:\n",
    "            productName = re.sub(r\"(https:\\/\\/.*\\.com\\/)|(product-reviews\\/)|(\\?.*)\",\"\",link).split(\"/\")[0]\n",
    "            returnList.append((asin, productName))\n",
    "            if(len(returnList)%5==0):\n",
    "                print(\"{}개\".format(len(returnList)))\n",
    "        except:\n",
    "            errorList.append(asin)\n",
    "    print(\"time: \", time.time() - start)\n",
    "    \n",
    "    print(\"에러: {}\".format(errorList))\n",
    "    return returnList\n"
   ]
  },
  {
   "cell_type": "code",
   "execution_count": null,
   "metadata": {},
   "outputs": [],
   "source": [
    "# resultList = getProductName([ \"inputList\" ])"
   ]
  },
  {
   "cell_type": "code",
   "execution_count": null,
   "metadata": {},
   "outputs": [],
   "source": []
  }
 ],
 "metadata": {
  "kernelspec": {
   "display_name": "Python 3",
   "language": "python",
   "name": "python3"
  },
  "language_info": {
   "codemirror_mode": {
    "name": "ipython",
    "version": 3
   },
   "file_extension": ".py",
   "mimetype": "text/x-python",
   "name": "python",
   "nbconvert_exporter": "python",
   "pygments_lexer": "ipython3",
   "version": "3.7.3"
  }
 },
 "nbformat": 4,
 "nbformat_minor": 4
}
